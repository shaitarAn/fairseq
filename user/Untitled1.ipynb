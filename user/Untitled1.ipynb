{
 "cells": [
  {
   "cell_type": "code",
   "execution_count": 8,
   "metadata": {},
   "outputs": [],
   "source": [
    "import os.path as op\n",
    "from typing import Union, List\n",
    "from collections import Counter"
   ]
  },
  {
   "cell_type": "code",
   "execution_count": 9,
   "metadata": {},
   "outputs": [],
   "source": [
    "log_file = '/srv/scratch2/kew/fairseq_materials/rrgen/de/ft100src_rg/nbest5.txt'"
   ]
  },
  {
   "cell_type": "code",
   "execution_count": 41,
   "metadata": {},
   "outputs": [],
   "source": [
    "def _get_data(log_path_or_paths: Union[str, List[str]], nbest=1):\n",
    "    if isinstance(log_path_or_paths, str):\n",
    "        log_path_or_paths = [log_path_or_paths]\n",
    "    ids, src, ref, hypo = None, None, None, {}\n",
    "    names = Counter()\n",
    "    for k, log_path in enumerate(log_path_or_paths):\n",
    "        assert op.isfile(log_path)\n",
    "        cur_src, cur_ref, cur_hypo = {}, {}, {}\n",
    "        with open(log_path) as f:\n",
    "            for l in f:\n",
    "                line = l.strip()\n",
    "                if line.startswith('H-'):\n",
    "                    _id, _, sent = line.split('\\t', 2)\n",
    "                    # collect multiple hypotheses for each ID (nbest > 1)\n",
    "                    if not _id[2:] in cur_hypo:\n",
    "                        cur_hypo[_id[2:]] = [sent]\n",
    "                    else:\n",
    "                        cur_hypo[_id[2:]].append(sent)\n",
    "                elif line.startswith('T-'):\n",
    "                    _id, sent = line.split('\\t', 1)\n",
    "                    cur_ref[_id[2:]] = sent\n",
    "                elif line.startswith('S-'):\n",
    "                    _id, sent = line.split('\\t', 1)\n",
    "                    cur_src[_id[2:]] = sent\n",
    "        \n",
    "        cur_ids = sorted(cur_src.keys())\n",
    "        assert set(cur_ids) == set(cur_ref.keys()) == set(cur_hypo.keys())\n",
    "        cur_src = [cur_src[i] for i in cur_ids]\n",
    "        cur_ref = [cur_ref[i] for i in cur_ids]\n",
    "#         cur_hypo = [cur_hypo[i] for i in cur_ids]\n",
    "        \n",
    "        if k == 0:\n",
    "            ids, src, ref = cur_ids, cur_src, cur_ref\n",
    "        else:\n",
    "            assert set(ids) == set(cur_ids) and set(src) == set(cur_src)\n",
    "            assert set(ref) == set(cur_ref)\n",
    "        name = op.splitext(op.basename(log_path))[0]\n",
    "        names.update([name])\n",
    "        if names[name] > 1:\n",
    "            name += f'.{names[name]}'\n",
    "        if nbest==1:\n",
    "            # ensure that hypo = {'name': ['hyp1', 'hyp2', etc]}\n",
    "            hypo[name] = [cur_hypo[i][:nbest][0] for i in cur_ids]\n",
    "        else:\n",
    "            # hypo will be {'name': [['hyp1.1', 'hyp1.2', 'hyp1.3', ...], ['hyp2.1', 'hyp2.2', 'hyp2.3', ...], [etc]]}\n",
    "            # other functions will need to be extended for compatibility \n",
    "            hypo[name] = [cur_hypo[i][:nbest] for i in cur_ids]\n",
    "        \n",
    "    return {'0': src}, {'0': ref}, hypo\n",
    "\n",
    "# with open(log_file, 'r', encoding='utf8') as f:\n",
    "#     for l in f:\n",
    "#         line = line.\n",
    "\n",
    "s, r, h = _get_data(log_file)\n"
   ]
  },
  {
   "cell_type": "code",
   "execution_count": 42,
   "metadata": {},
   "outputs": [
    {
     "name": "stdout",
     "output_type": "stream",
     "text": [
      "21132\n",
      "21132\n"
     ]
    }
   ],
   "source": [
    "print(len(h['nbest5']))\n",
    "print(len(s['0']))"
   ]
  },
  {
   "cell_type": "code",
   "execution_count": 51,
   "metadata": {},
   "outputs": [
    {
     "data": {
      "text/plain": [
       "'<GREETING> , vielen Dank , dass sie sich die Zeit genommen haben , uns ihre Meinung zu ihrem Aufenthalt bei uns mitzuteilen . wir hoffen , sie bald wieder bei uns begrüßen zu dürfen ! <SALUTATION>'"
      ]
     },
     "execution_count": 51,
     "metadata": {},
     "output_type": "execute_result"
    }
   ],
   "source": [
    "h['nbest5'][100]"
   ]
  },
  {
   "cell_type": "code",
   "execution_count": 52,
   "metadata": {},
   "outputs": [],
   "source": [
    "from vizseq.ipynb.core import view_examples, view_stats, view_n_grams, view_scores\n",
    "from vizseq._view import DEFAULT_PAGE_SIZE, DEFAULT_PAGE_NO, VizSeqSortingType"
   ]
  },
  {
   "cell_type": "code",
   "execution_count": 53,
   "metadata": {},
   "outputs": [
    {
     "data": {
      "text/html": [
       "<!DOCTYPE html>\n",
       "<html lang=\"en\">\n",
       "<head>\n",
       "    <link rel=\"stylesheet\" href=\"https://stackpath.bootstrapcdn.com/bootstrap/4.2.1/css/bootstrap.min.css\"\n",
       "          integrity=\"sha384-GJzZqFGwb1QTTN6wy59ffF1BuGJpLSa9DkKMp0DgiMDm4iYMj70gZWKYbI706tWS\" crossorigin=\"anonymous\">\n",
       "\n",
       "    <style>\n",
       "        body {\n",
       "            padding-top: 60px; /* 60px to make the container go all the way to the bottom of the topbar */\n",
       "        }\n",
       "    </style>\n",
       "</head>\n",
       "\n",
       "<body>\n",
       "\n",
       "<div class=\"container-fluid\">\n",
       "    <div class=\"row\">\n",
       "        <table class=\"table table-hover table-bordered\">\n",
       "            <thead class=\"thead-light\">\n",
       "            <tr>\n",
       "                <th scope=\"col\"></th>\n",
       "                <th scope=\"col\">Type</th>\n",
       "                <th scope=\"col\">Examples</th>\n",
       "                <th scope=\"col\">Tokens / Frames</th>\n",
       "                <th scope=\"col\">Chars / Duration (ms)</th>\n",
       "            </tr>\n",
       "            </thead>\n",
       "            <tbody id=\"statsTable\">\n",
       "            \n",
       "            <tr>\n",
       "                <th scope=\"row\">Source 0</th>\n",
       "                <td>Text</td>\n",
       "                <td>21,132</td>\n",
       "                <td>1,439,191</td>\n",
       "                <td>8,519,315</td>\n",
       "            </tr>\n",
       "            \n",
       "            \n",
       "            <tr>\n",
       "                <th scope=\"row\">Reference nbest5</th>\n",
       "                <td> Text </td>\n",
       "                <td>21,132</td>\n",
       "                <td>818,994</td>\n",
       "                <td>4,410,003</td>\n",
       "            </tr>\n",
       "            \n",
       "            </tbody>\n",
       "        </table>\n",
       "    </div>\n",
       "</div>\n",
       "\n",
       "<script src=\"https://code.jquery.com/jquery-3.3.1.slim.min.js\"\n",
       "        integrity=\"sha384-q8i/X+965DzO0rT7abK41JStQIAqVgRVzpbzo5smXKp4YfRvH+8abtTE1Pi6jizo\" crossorigin=\"anonymous\">\n",
       "</script>\n",
       "<script src=\"https://cdnjs.cloudflare.com/ajax/libs/popper.js/1.14.6/umd/popper.min.js\"\n",
       "        integrity=\"sha384-wHAiFfRlMFy6i5SRaxvfOCifBUQy1xHdJ/yoi7FRNXMRBu5WHdZYu1hA6ZOblgut\" crossorigin=\"anonymous\">\n",
       "</script>\n",
       "<script src=\"https://stackpath.bootstrapcdn.com/bootstrap/4.2.1/js/bootstrap.min.js\"\n",
       "        integrity=\"sha384-B0UglyR+jN6CkvvICOB2joaf5I4l3gm9GU6Hc1og6Ls7i6U/mkkaduKaBhlAXv9k\" crossorigin=\"anonymous\">\n",
       "</script>\n",
       "\n",
       "</body>\n",
       "</html>"
      ],
      "text/plain": [
       "<IPython.core.display.HTML object>"
      ]
     },
     "metadata": {},
     "output_type": "display_data"
    },
    {
     "data": {
      "image/png": "[encoded data removed]",
      "text/plain": [
       "<Figure size 1008x360 with 2 Axes>"
      ]
     },
     "metadata": {
      "needs_background": "light"
     },
     "output_type": "display_data"
    }
   ],
   "source": [
    "from vizseq.ipynb.core import view_examples, view_stats, view_n_grams, view_scores\n",
    "from vizseq._view import DEFAULT_PAGE_SIZE, DEFAULT_PAGE_NO, VizSeqSortingType\n",
    "\n",
    "view_stats(r, h)"
   ]
  },
  {
   "cell_type": "code",
   "execution_count": 54,
   "metadata": {},
   "outputs": [],
   "source": [
    "from nltk.util import ngrams"
   ]
  },
  {
   "cell_type": "code",
   "execution_count": 58,
   "metadata": {},
   "outputs": [
    {
     "data": {
      "text/plain": [
       "[('this', 'is'), ('is', 'a'), ('a', 'sentence'), ('sentence', '.')]"
      ]
     },
     "execution_count": 58,
     "metadata": {},
     "output_type": "execute_result"
    }
   ],
   "source": [
    "list(ngrams(['this', 'is', 'a', 'sentence', '.'], 2))"
   ]
  },
  {
   "cell_type": "code",
   "execution_count": 60,
   "metadata": {},
   "outputs": [
    {
     "data": {
      "text/plain": [
       "[1]"
      ]
     },
     "execution_count": 60,
     "metadata": {},
     "output_type": "execute_result"
    }
   ],
   "source": [
    "list(range(1, 2))"
   ]
  },
  {
   "cell_type": "code",
   "execution_count": 66,
   "metadata": {},
   "outputs": [
    {
     "ename": "ImportError",
     "evalue": "cannot import name 'dinstinct_n' from 'vizseq.custom' (unknown location)",
     "output_type": "error",
     "traceback": [
      "\u001b[0;31m---------------------------------------------------------------------------\u001b[0m",
      "\u001b[0;31mImportError\u001b[0m                               Traceback (most recent call last)",
      "\u001b[0;32m<ipython-input-66-95f6370dfb6b>\u001b[0m in \u001b[0;36m<module>\u001b[0;34m\u001b[0m\n\u001b[0;32m----> 1\u001b[0;31m \u001b[0;32mfrom\u001b[0m \u001b[0mvizseq\u001b[0m\u001b[0;34m.\u001b[0m\u001b[0mcustom\u001b[0m \u001b[0;32mimport\u001b[0m \u001b[0mdinstinct_n\u001b[0m \u001b[0;32mas\u001b[0m \u001b[0mdistn\u001b[0m\u001b[0;34m\u001b[0m\u001b[0;34m\u001b[0m\u001b[0m\n\u001b[0m",
      "\u001b[0;31mImportError\u001b[0m: cannot import name 'dinstinct_n' from 'vizseq.custom' (unknown location)"
     ]
    }
   ],
   "source": [
    "from vizseq.custom import dinstinct_n as distn"
   ]
  },
  {
   "cell_type": "code",
   "execution_count": null,
   "metadata": {},
   "outputs": [],
   "source": []
  }
 ],
 "metadata": {
  "kernelspec": {
   "display_name": "Python 3",
   "language": "python",
   "name": "python3"
  },
  "language_info": {
   "codemirror_mode": {
    "name": "ipython",
    "version": 3
   },
   "file_extension": ".py",
   "mimetype": "text/x-python",
   "name": "python",
   "nbconvert_exporter": "python",
   "pygments_lexer": "ipython3",
   "version": "3.7.7"
  }
 },
 "nbformat": 4,
 "nbformat_minor": 4
}
