{
 "cells": [
  {
   "cell_type": "code",
   "execution_count": 2,
   "metadata": {},
   "outputs": [],
   "source": [
    "import pandas as pd\n",
    "pd.set_option('display.max_colwidth', None)\n",
    "# pd.set_option('display.max_rows', -1)\n",
    "# pd.set_option('display.max_columns', -1)\n",
    "pd.set_option('display.width', -1)"
   ]
  },
  {
   "cell_type": "code",
   "execution_count": 3,
   "metadata": {},
   "outputs": [
    {
     "name": "stdout",
     "output_type": "stream",
     "text": [
      "review\n",
      "response\n",
      "senti\n",
      "cate\n",
      "rate\n"
     ]
    }
   ],
   "source": [
    "files = {'review': '/srv/scratch2/kew/fairseq_materials/rrgen/de/data_raw/test.review',\n",
    "         'response': '/srv/scratch2/kew/fairseq_materials/rrgen/de/data_raw/test.response_rg',\n",
    "         'senti': '/srv/scratch2/kew/fairseq_materials/rrgen/de/data_raw/test.sentiment',\n",
    "         'cate': '/srv/scratch2/kew/fairseq_materials/rrgen/de/data_raw/test.domain',\n",
    "         'rate': '/srv/scratch2/kew/fairseq_materials/rrgen/de/data_raw/test.rating'}\n",
    "\n",
    "for file, filepath in files.items():\n",
    "    with open(filepath, 'r', encoding='utf8') as f:\n",
    "        print(file)\n",
    "        if file in ('review', 'response'):\n",
    "            files[file] = [l.strip() for l in f.readlines()]\n",
    "        else: # values in sentiment, domain and rating file are exptected to be numeric\n",
    "            files[file] = [int(l.strip()) for l in f.readlines()]\n",
    "\n",
    "df = pd.DataFrame(files)"
   ]
  },
  {
   "cell_type": "code",
   "execution_count": 28,
   "metadata": {},
   "outputs": [
    {
     "name": "stdout",
     "output_type": "stream",
     "text": [
      "review = \"\"\"das war das letzte Mal ---SEP--- unprofessionelle , aggressive und gewalttätige Tür ohne jede Klasse und ohne die Fähigkeit gewaltfrei zu deeskalieren\"\"\"\n",
      "target = \"\"\"<GREETING> , wir bedauern sehr , dass sie so unangenehme eine Erfahrung bei uns machen Mussten . schreiben sie uns sehr gerne eine E-Mail an <EMAIL> , damit wir mehr Details über diesen Abend erfahren und gemeinsam eine Lösung finden können . <SALUTATION>\"\"\"\n",
      "senti = 1\n",
      "cate = 2\n",
      "rate = 1\n",
      "get_response(sentence=review, ext_senti=senti, ext_cate=cate, ext_rate=rate, target=target)\n"
     ]
    }
   ],
   "source": [
    "def print_entry(col, val):\n",
    "    selection = df.loc[df[col] == val].sample()\n",
    "    \n",
    "    print(f'review = \"\"\"{selection.review.tolist()[0]}\"\"\"')\n",
    "    print(f'target = \"\"\"{selection.response.tolist()[0]}\"\"\"')\n",
    "    print(f'senti = {selection.senti.tolist()[0]}')\n",
    "    print(f'cate = {selection.cate.tolist()[0]}')\n",
    "    print(f'rate = {selection.rate.tolist()[0]}')\n",
    "    print(f'get_response(sentence=review, ext_senti=senti, ext_cate=cate, ext_rate=rate, target=target)')\n",
    "\n",
    "print_entry('senti', 1)"
   ]
  },
  {
   "cell_type": "code",
   "execution_count": null,
   "metadata": {},
   "outputs": [],
   "source": []
  },
  {
   "cell_type": "code",
   "execution_count": null,
   "metadata": {},
   "outputs": [],
   "source": []
  }
 ],
 "metadata": {
  "kernelspec": {
   "display_name": "Python 3",
   "language": "python",
   "name": "python3"
  },
  "language_info": {
   "codemirror_mode": {
    "name": "ipython",
    "version": 3
   },
   "file_extension": ".py",
   "mimetype": "text/x-python",
   "name": "python",
   "nbconvert_exporter": "python",
   "pygments_lexer": "ipython3",
   "version": "3.7.7"
  }
 },
 "nbformat": 4,
 "nbformat_minor": 4
}
